{
 "cells": [
  {
   "cell_type": "markdown",
   "metadata": {},
   "source": [
    "# References for Using & Understanding the BlackScholes Dashboard."
   ]
  },
  {
   "cell_type": "markdown",
   "metadata": {},
   "source": [
    "\n",
    "**Original Paper developing the BS Formula:**\n",
    "\n",
    "Black, F., & Scholes, M. (1973). The Pricing of Options and Corporate Liabilities. The Journal of Political Economy, 81(3), 637–654. Retrieved from http://www.jstor.org/stable/1831029\n",
    "\n",
    "\n",
    "**Excellent Series of Articles on Options Greeks:**\n",
    "Haug, E. G. (2003). Know your weapon, Part 1. Wilmott Magazine, May, 49–57. https://doi.org/10.1002/wilm.42820030313\n",
    "\n",
    "Haug, E. G. (2003). The collector: Know your weapon part 2. Wilmott Magazine, 4(3), 141–59. https://doi.org/10.1002/wilm.42820030313\n",
    "\n",
    "Haug, E. G. (2007). Derivative Models on Models (1st ed.). London: John Wiley & Sons Inc.\n",
    "* Chapter 2 of this book contains the third article in this series.\n",
    "\n",
    "\n"
   ]
  },
  {
   "cell_type": "markdown",
   "metadata": {},
   "source": [
    "## Background Knowledge\n",
    "\n",
    "#### Asset Pricing\n",
    "A fantastic [site](http://faculty.chicagobooth.edu/john.cochrane/teaching/asset_pricing.htm) dedicated to John Cochrane's Asset Pricing textbook and the online course associated with it, taught by the author himself.\n",
    "\n",
    "#### Options Pricing\n",
    "\n",
    "Taleb, Nassim N. Dynamic Hedging: Managing Vanilla and Exotic Options. New York: Wiley, 1997. Print.\n",
    "\n"
   ]
  },
  {
   "cell_type": "markdown",
   "metadata": {},
   "source": []
  },
  {
   "cell_type": "markdown",
   "metadata": {},
   "source": []
  },
  {
   "cell_type": "markdown",
   "metadata": {},
   "source": []
  },
  {
   "cell_type": "markdown",
   "metadata": {},
   "source": []
  }
 ],
 "metadata": {
  "kernelspec": {
   "display_name": "Python 3",
   "language": "python",
   "name": "python3"
  },
  "language_info": {
   "codemirror_mode": {
    "name": "ipython",
    "version": 3
   },
   "file_extension": ".py",
   "mimetype": "text/x-python",
   "name": "python",
   "nbconvert_exporter": "python",
   "pygments_lexer": "ipython3",
   "version": "3.6.3"
  }
 },
 "nbformat": 4,
 "nbformat_minor": 2
}
